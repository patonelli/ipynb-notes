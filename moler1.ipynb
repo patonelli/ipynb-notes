{
 "metadata": {
  "name": "moler1"
 },
 "nbformat": 3,
 "nbformat_minor": 0,
 "worksheets": [
  {
   "cells": [
    {
     "cell_type": "markdown",
     "metadata": {},
     "source": [
      "O n\u00famero \u00e1ureo\n",
      "==============\n",
      "\n",
      "A id\u00e9ia do primeiro cap\u00edtulo \u00e9 estudar as v\u00e1rias inst\u00e2ncias em que aparece o n\u00famero \u00e1ureo. Em primeiro lugar vamos usar a f\u00f3rmula\n",
      "$$ \\Phi = \\frac{1+\\sqrt{5}}{2} $$ \n",
      "Calculando com o **Ipython** temos:"
     ]
    },
    {
     "cell_type": "code",
     "collapsed": false,
     "input": [
      "phi = (1+sqrt(5))/2\n",
      "phi"
     ],
     "language": "python",
     "metadata": {},
     "outputs": [
      {
       "output_type": "pyout",
       "prompt_number": 5,
       "text": [
        "1.6180339887498949"
       ]
      }
     ],
     "prompt_number": 5
    },
    {
     "cell_type": "markdown",
     "metadata": {},
     "source": [
      "ou seja, podemos usar o Ipython como uma calculadora. Podemos ainda impressionar a audi\u00eancia com o comando *format()*"
     ]
    },
    {
     "cell_type": "code",
     "collapsed": false,
     "input": [
      "print \" O valor do numero aureo eh {0}...\".format((1+sqrt(5))/2,\"\")"
     ],
     "language": "python",
     "metadata": {},
     "outputs": [
      {
       "output_type": "stream",
       "stream": "stdout",
       "text": [
        " O valor do numero aureo eh 1.61803398875...\n"
       ]
      }
     ],
     "prompt_number": 9
    },
    {
     "cell_type": "code",
     "collapsed": false,
     "input": [
      "format(phi,\"50.50\")\n"
     ],
     "language": "python",
     "metadata": {},
     "outputs": [
      {
       "output_type": "pyout",
       "prompt_number": 7,
       "text": [
        "'1.6180339887498949025257388711906969547271728515625'"
       ]
      }
     ],
     "prompt_number": 7
    },
    {
     "cell_type": "code",
     "collapsed": false,
     "input": [
      "print \" O Valor do numero aureo eh \"+ format(phi,\"1.50\")+\"...\""
     ],
     "language": "python",
     "metadata": {},
     "outputs": [
      {
       "output_type": "stream",
       "stream": "stdout",
       "text": [
        " O Valor do numero aureo eh 1.6180339887498949025257388711906969547271728515625...\n"
       ]
      }
     ],
     "prompt_number": 7
    },
    {
     "cell_type": "markdown",
     "metadata": {},
     "source": [
      "A outra forma de se calcular o n\u00famero \u00e1ureo \u00e9 achar as raizes do polin\u00f4mio $p(\\lambda) = \\lambda^2 -\\lambda -1$. No nosso caso podemos fazer assim:"
     ]
    },
    {
     "cell_type": "code",
     "collapsed": false,
     "input": [
      "p = [1,-1,-1]\n",
      "raizes = roots(p)\n",
      "print raizes"
     ],
     "language": "python",
     "metadata": {},
     "outputs": [
      {
       "output_type": "stream",
       "stream": "stdout",
       "text": [
        "[ 1.61803399 -0.61803399]\n"
       ]
      }
     ],
     "prompt_number": 8
    },
    {
     "cell_type": "code",
     "collapsed": false,
     "input": [
      "type(raizes)"
     ],
     "language": "python",
     "metadata": {},
     "outputs": [
      {
       "output_type": "pyout",
       "prompt_number": 9,
       "text": [
        "numpy.ndarray"
       ]
      }
     ],
     "prompt_number": 9
    },
    {
     "cell_type": "code",
     "collapsed": false,
     "input": [
      "raizes[0]"
     ],
     "language": "python",
     "metadata": {},
     "outputs": [
      {
       "output_type": "pyout",
       "prompt_number": 10,
       "text": [
        "1.6180339887498949"
       ]
      }
     ],
     "prompt_number": 10
    },
    {
     "cell_type": "code",
     "collapsed": false,
     "input": [
      "format(raizes[0],\"1.50\")"
     ],
     "language": "python",
     "metadata": {},
     "outputs": [
      {
       "output_type": "pyout",
       "prompt_number": 11,
       "text": [
        "'1.6180339887498949025257388711906969547271728515625'"
       ]
      }
     ],
     "prompt_number": 11
    },
    {
     "cell_type": "heading",
     "level": 2,
     "metadata": {},
     "source": [
      "Usando o SymPy"
     ]
    },
    {
     "cell_type": "code",
     "collapsed": false,
     "input": [
      "from sympy import *"
     ],
     "language": "python",
     "metadata": {},
     "outputs": [],
     "prompt_number": 10
    },
    {
     "cell_type": "code",
     "collapsed": false,
     "input": [
      "var('x')\n",
      "s=solve(1/x-x+1,x)\n",
      "s"
     ],
     "language": "python",
     "metadata": {},
     "outputs": [
      {
       "output_type": "pyout",
       "prompt_number": 12,
       "text": [
        "[1/2 + 5**(1/2)/2, -5**(1/2)/2 + 1/2]"
       ]
      }
     ],
     "prompt_number": 12
    },
    {
     "cell_type": "code",
     "collapsed": false,
     "input": [
      "N(s[0],50)"
     ],
     "language": "python",
     "metadata": {},
     "outputs": [
      {
       "output_type": "pyout",
       "prompt_number": 13,
       "text": [
        "1.6180339887498948482045868343656381177203091798058"
       ]
      }
     ],
     "prompt_number": 13
    },
    {
     "cell_type": "code",
     "collapsed": false,
     "input": [
      "pretty(s[0])"
     ],
     "language": "python",
     "metadata": {},
     "outputs": [
      {
       "output_type": "pyout",
       "prompt_number": 16,
       "text": [
        "'      ___\\n1   \\\\/ 5 \\n- + -----\\n2     2  '"
       ]
      }
     ],
     "prompt_number": 16
    },
    {
     "cell_type": "code",
     "collapsed": false,
     "input": [],
     "language": "python",
     "metadata": {},
     "outputs": []
    }
   ],
   "metadata": {}
  }
 ]
}